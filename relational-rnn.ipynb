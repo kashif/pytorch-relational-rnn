{
 "cells": [
  {
   "cell_type": "markdown",
   "metadata": {},
   "source": [
    "# Relational RNNs by Adam Santoro et al. in PyTorch\n",
    "\n"
   ]
  },
  {
   "cell_type": "code",
   "execution_count": 1,
   "metadata": {},
   "outputs": [],
   "source": [
    "import numpy as np"
   ]
  },
  {
   "cell_type": "code",
   "execution_count": 3,
   "metadata": {},
   "outputs": [],
   "source": [
    "import torch\n",
    "import torch.nn as nn\n",
    "import torch.nn.functional as F"
   ]
  },
  {
   "cell_type": "code",
   "execution_count": 61,
   "metadata": {},
   "outputs": [],
   "source": [
    "device = torch.device('cuda' if torch.cuda.is_available() else 'cpu')"
   ]
  },
  {
   "cell_type": "code",
   "execution_count": 16,
   "metadata": {},
   "outputs": [],
   "source": [
    "class RelationalMemory(nn.Module):\n",
    "    \"\"\"\n",
    "    Args:\n",
    "        input_size: \n",
    "        mem_slots: The total number of memory slots to use.\n",
    "        head_size: The size of an attention head.\n",
    "        num_heads: The number of attention heads to use. Defaults to 1.\n",
    "        num_blocks: Number of times to compute attention per time step. Defaults to 1.\n",
    "        forget_bias: \n",
    "        input_bias:\n",
    "        gate_style:\n",
    "        attention_mlp_layers:\n",
    "        key_size:\n",
    "    \"\"\"\n",
    "    def __init__(self, input_size,\n",
    "                 mem_slots, head_size, num_heads=1, num_blocks=1,\n",
    "                 forget_bias=1.0, input_bias=0.0, gate_style='unit',\n",
    "                 attention_mlp_layers=2, key_size=None):\n",
    "        super(RelationalMemory, self).__init__()\n",
    "        \n",
    "        self._mem_slots = mem_slots\n",
    "        self._head_size = head_size\n",
    "        self._num_heads = num_heads\n",
    "        self._mem_size = self._head_size * self._num_heads\n",
    "\n",
    "        if num_blocks < 1:\n",
    "            raise ValueError('num_blocks must be >= 1. Got: {}.'.format(num_blocks))\n",
    "        self._num_blocks = num_blocks\n",
    "\n",
    "        self._forget_bias = forget_bias\n",
    "        self._input_bias = input_bias\n",
    "\n",
    "        if gate_style not in ['unit', 'memory', None]:\n",
    "            raise ValueError(\n",
    "                'gate_style must be one of [\\'unit\\', \\'memory\\', None]. Got: '\n",
    "                '{}.'.format(gate_style))\n",
    "        self._gate_style = gate_style\n",
    "\n",
    "        if attention_mlp_layers < 1:\n",
    "            raise ValueError('attention_mlp_layers must be >= 1. Got: {}.'.format(\n",
    "                attention_mlp_layers))\n",
    "        self._attention_mlp_layers = attention_mlp_layers\n",
    "\n",
    "        self._key_size = key_size if key_size else self._head_size\n",
    "\n",
    "        self._linear = nn.Linear(in_features=input_size,\n",
    "                                 out_features=self._mem_size)\n",
    "        \n",
    "        qkv_size = 2 * self._key_size + self._head_size\n",
    "        total_size = qkv_size * self._num_heads\n",
    "        self._attention_linear = nn.Linear(in_features=self._mem_size,\n",
    "                                           out_features=total_size)\n",
    "        self._attention_layer_norm = nn.LayerNorm(total_size)\n",
    "        \n",
    "        attention_mlp_modules = nn.ModuleList([\n",
    "            nn.Sequential(\n",
    "                nn.Linear(in_features=self._mem_size,\n",
    "                          out_features=self._mem_size),\n",
    "                nn.ReLU())] * (self._attention_mlp_layers - 1) +\n",
    "            [nn.Linear(in_features=self._mem_size,\n",
    "                       out_features=self._mem_size)]\n",
    "        )\n",
    "        self._attention_mlp = nn.Sequential(*attention_mlp_modules)\n",
    "        \n",
    "        self._attend_layer_norm_1 = nn.LayerNorm(self._mem_size)\n",
    "        self._attend_layer_norm_2 = nn.LayerNorm(self._mem_size)\n",
    "        \n",
    "        num_gates = 2 * self._calculate_gate_size()\n",
    "        self._gate_inputs_linear = nn.Linear(in_features=self._mem_size,\n",
    "                                             out_features=num_gates)\n",
    "        \n",
    "        self._gate_memory_linear = nn.Linear(in_features=self._mem_size,\n",
    "                                             out_features=num_gates)\n",
    "        \n",
    "        \n",
    "    def initial_state(self, batch_size):\n",
    "        \"\"\"Creates the initial memory.\n",
    "\n",
    "        We should ensure each row of the memory is initialized to be unique,\n",
    "        so initialize the matrix to be the identity. We then pad or truncate\n",
    "        as necessary so that init_state is of size \n",
    "        (batch_size, self._mem_slots, self._mem_size).\n",
    "\n",
    "        Returns:\n",
    "            init_state: A truncated or padded matrix of size\n",
    "            (batch_size, self._mem_slots, self._mem_size).\n",
    "        \"\"\"    \n",
    "        init_state = torch.eye(n=self._mem_slots).repeat(batch_size, 1, 1)\n",
    "        \n",
    "        # Pad the matrix with zeros.\n",
    "        if self._mem_size > self._mem_slots:\n",
    "            difference = self._mem_size - self._mem_slots\n",
    "            pad = torch.zeros((batch_size, self._mem_slots, difference))\n",
    "            init_state = torch.cat([init_state, pad], dim=-1)\n",
    "        # Truncation. Take the first `self._mem_size` components.\n",
    "        elif self._mem_size < self._mem_slots:\n",
    "            init_state = init_state[:, :, :self._mem_size]\n",
    "        \n",
    "        return init_state\n",
    "\n",
    "    def _multihead_attention(self, memory): # memory: [B, MEM_SLOT, MEM_SIZE]\n",
    "        # F = total_size\n",
    "        # mem_slots = MEM_SLOT = N\n",
    "        mem_slots = memory.size(1)\n",
    "        \n",
    "        # [B, MEM_SLOT, MEM_SIZE] -> [B*MEM_SLOT, MEM_SIZE] -> Linear -> [B*MEM_SLOT, F]\n",
    "        qkv = self._attention_linear(memory.view(-1, memory.size(2)))\n",
    "        \n",
    "        # [B*MEM_SLOT, F] -> Layer Norm -> [B*MEM_SLOT, F] -> [B, MEM_SLOT, F]\n",
    "        qkv = self._attention_layer_norm(qkv).view(memory.size(0), mem_slots, -1)\n",
    "        \n",
    "        # H = num_heads\n",
    "        qkv_size = 2 * self._key_size + self._head_size\n",
    "        \n",
    "        # [B, N, F] -> [B, N, H, F/H]\n",
    "        qkv_reshape = qkv.view(-1, mem_slots, self._num_heads, qkv_size)\n",
    "        \n",
    "        # [B, N, H, F/H] -> [B, H, N, F/H]\n",
    "        qkv_transpose = qkv_reshape.permute(0, 2, 1, 3)\n",
    "        # split q, k, v\n",
    "        q, k, v = torch.split(qkv_transpose, [self._key_size, self._key_size, self._head_size], dim=-1)\n",
    "        \n",
    "        q *= qkv_size ** -0.5\n",
    "        dot_product = torch.matmul(q, torch.transpose(k, 2, 3)) # [B, H, N, N]\n",
    "        weights = F.softmax(dot_product, dim=-1)\n",
    "        \n",
    "        #[B, H, N, V]\n",
    "        output = torch.matmul(weights, v)\n",
    "        \n",
    "        # [B, H, N, V] -> [B, N, H, V]\n",
    "        output_transpose = output.permute(0, 2, 1, 3)\n",
    "        \n",
    "        # [B, N, H, V] -> [B, N, H * V]\n",
    "        new_memory = output_transpose.contiguous().view(-1, output_transpose.size(1), \n",
    "                                                        output_transpose.size(2)*output_transpose.size(3))\n",
    "        \n",
    "        return new_memory #[B, MEM_SLOTS, MEM_SIZE]\n",
    "    \n",
    "    \n",
    "    def _attend_over_memory(self, memory):\n",
    "        # memory: [B, MEM_SLOT, MEM_SIZE]\n",
    "        for _ in range(self._num_blocks):\n",
    "            attended_memory = self._multihead_attention(memory) # [B, MEM_SLOT, MEM_SIZE]\n",
    "            \n",
    "            # add a skip connection the multiheaded attention's input.\n",
    "            # memory = LN_1(memory + attended_memory) [B*MEM_SLOT, MEM_SIZE]\n",
    "            memory = self._attend_layer_norm_1((memory + attended_memory).view(-1, memory.size(2)))\n",
    "            \n",
    "            # add a skip connection to the attention_mlp's input.\n",
    "            # memory = LN_2( MLP(memory) + memory)\n",
    "            memory = self._attend_layer_norm_2(self._attention_mlp(memory) + memory).view(-1, \n",
    "                                                                                          attended_memory.size(1),\n",
    "                                                                                          attended_memory.size(2))\n",
    "        return memory\n",
    "    \n",
    "    def _calculate_gate_size(self):\n",
    "        if self._gate_style == 'unit':\n",
    "            return self._mem_size\n",
    "        elif self._gate_style == 'memory':\n",
    "          return 1\n",
    "        else:\n",
    "            return 0\n",
    "        \n",
    "    def _create_gates(self, inputs, memory):\n",
    "        memory = torch.tanh(memory)\n",
    "        \n",
    "        #inputs [B, 1, MEM_SIZE] -> [B, 1*MEM_SIZE]\n",
    "        inputs = inputs.view(inputs.size(0), -1)\n",
    "        \n",
    "        # [B, 1*MEM_SIZE] -> Linear -> [B, num_gates] -> [B, 1, num_gates]\n",
    "        gate_inputs = self._gate_inputs_linear(inputs).unsqueeze(1)\n",
    "        \n",
    "        # memory [B, MEM_SLOT, MEM_SIZE] -> [B*MEM_SLOT, MEM_SIZE] -> Linear -> [B*MEM_SLOT, 2*num_gates]\n",
    "        # -> [B, MEM_SLOT, 2*num_gates]\n",
    "        gate_memory = self._gate_memory_linear(memory.view(-1, memory.size(2))).view(memory.size(0),\n",
    "                                                                                     memory.size(1),\n",
    "                                                                                     -1)\n",
    "        \n",
    "        input_gate, forget_gate = torch.chunk(gate_memory + gate_inputs, 2, dim=2)\n",
    "        \n",
    "        input_gate = torch.sigmoid(input_gate + self._input_bias)\n",
    "        forget_gate = torch.sigmoid(forget_gate + self._forget_bias)\n",
    "        \n",
    "        return input_gate, forget_gate #[B, MEM_SLOT, num_gate], [B, MEM_SLOT, num_gate]\n",
    "        \n",
    "                                              \n",
    "    def forward(self, x, memory, treat_input_as_matrix=False):\n",
    "        # x: [B, T, F=input_size]\n",
    "        # memory: [B, MEM_SLOTS, MEM_SIZE]\n",
    "        batch_size = x.size(0)\n",
    "        total_timesteps = x.size(1)\n",
    "        \n",
    "        output_accumulator = x.new_zeros(batch_size, total_timesteps, self._mem_slots*self._mem_size)\n",
    "        \n",
    "        for index in range(total_timesteps):\n",
    "            # For each time-step\n",
    "            # inputs: [B, 1, F=input_size]\n",
    "            inputs = x[:,index].unsqueeze(1)\n",
    "            \n",
    "            if treat_input_as_matrix:\n",
    "                # [B, 1, F] -> [B*1, F] -> linear ->[B*1, MEM_SIZE] -> [B, 1, MEM_SIZE]\n",
    "                inputs_reshape =  self._linear(inputs.view(-1, inputs.size(2))).view(inputs.size(0), \n",
    "                                                                                     -1, \n",
    "                                                                                     self._mem_size)\n",
    "            else:\n",
    "                # [B, 1, F] -> [B, 1*F] -> linear -> [B, MEM_SIZE] -> [B, 1, MEM_SIZE]\n",
    "                inputs = inputs.view(inputs.size(0), -1)\n",
    "                inputs = self._linear(inputs)\n",
    "                inputs_reshape = inputs.unsqueeze(1)\n",
    "\n",
    "            # [B, MEM_SLOTS, MEM_SIZE] -> [B, MEM_SLOT+1, MEM_SIZE]\n",
    "            memory_plus_input = torch.cat([memory, inputs_reshape], dim=1)\n",
    "\n",
    "            next_memory = self._attend_over_memory(memory_plus_input)\n",
    "            n = inputs_reshape.size(1)\n",
    "            # [B, MEM_SLOT+1, MEM_SIZE] -> [B, MEM_SLOT, MEM_SIZE]\n",
    "            next_memory = next_memory[:, :-n, :]\n",
    "\n",
    "            if self._gate_style == 'unit' or self._gate_style == 'memory':\n",
    "                input_gate, forget_gate = self._create_gates(inputs_reshape, memory) #[B, MEM_SLOT, num_gate] \n",
    "                next_memory = input_gate * torch.tanh(next_memory)\n",
    "                next_memory += forget_gate * memory\n",
    "            \n",
    "            \n",
    "            # output: [B, MEM_SLOT, MEM_SIZE] -> [B, MEM_SLOT*MEM_SIZE]\n",
    "            output = next_memory.view(next_memory.size(0), -1)\n",
    "            \n",
    "            output_accumulator[:,index] = output\n",
    "            memory = next_memory\n",
    "        \n",
    "        return output_accumulator, memory"
   ]
  },
  {
   "cell_type": "code",
   "execution_count": 79,
   "metadata": {},
   "outputs": [],
   "source": [
    "mem_slots = 4\n",
    "head_size = 32\n",
    "num_heads = 2\n",
    "batch_size = 64\n",
    "input_size = 300\n",
    "timesteps = 200"
   ]
  },
  {
   "cell_type": "code",
   "execution_count": 80,
   "metadata": {},
   "outputs": [],
   "source": [
    "input_shape = (batch_size, timesteps, input_size)\n",
    "inputs = torch.Tensor(batch_size, timesteps, input_size).to(device)"
   ]
  },
  {
   "cell_type": "code",
   "execution_count": 81,
   "metadata": {},
   "outputs": [],
   "source": [
    "mem = RelationalMemory(input_size, mem_slots, head_size, num_heads).to(device)"
   ]
  },
  {
   "cell_type": "code",
   "execution_count": 82,
   "metadata": {},
   "outputs": [],
   "source": [
    "init_state = mem.initial_state(batch_size).to(device)"
   ]
  },
  {
   "cell_type": "code",
   "execution_count": 83,
   "metadata": {},
   "outputs": [],
   "source": [
    "output, next_memory = mem(inputs, init_state, treat_input_as_matrix=True)"
   ]
  },
  {
   "cell_type": "code",
   "execution_count": 84,
   "metadata": {},
   "outputs": [
    {
     "data": {
      "text/plain": [
       "torch.Size([64, 200, 256])"
      ]
     },
     "execution_count": 84,
     "metadata": {},
     "output_type": "execute_result"
    }
   ],
   "source": [
    "output.shape"
   ]
  },
  {
   "cell_type": "code",
   "execution_count": 85,
   "metadata": {},
   "outputs": [
    {
     "data": {
      "text/plain": [
       "torch.Size([64, 4, 64])"
      ]
     },
     "execution_count": 85,
     "metadata": {},
     "output_type": "execute_result"
    }
   ],
   "source": [
    "next_memory.shape"
   ]
  },
  {
   "cell_type": "code",
   "execution_count": 86,
   "metadata": {},
   "outputs": [
    {
     "data": {
      "text/plain": [
       "torch.Size([64, 4, 64])"
      ]
     },
     "execution_count": 86,
     "metadata": {},
     "output_type": "execute_result"
    }
   ],
   "source": [
    "init_state.shape"
   ]
  },
  {
   "cell_type": "code",
   "execution_count": 87,
   "metadata": {},
   "outputs": [
    {
     "data": {
      "text/plain": [
       "tensor([[[ 1.1897,  0.3306,  0.0575,  ...,  0.0642, -0.4631, -0.4099],\n",
       "         [ 1.1228,  0.5651,  0.2963,  ...,  0.1159, -0.7412, -0.6304],\n",
       "         [ 1.0831,  0.7186,  0.5747,  ...,  0.0950, -0.9237, -0.6883],\n",
       "         ...,\n",
       "         [-1.2018,  2.2055, -3.3188,  ..., -0.6528, -1.3688,  0.9509],\n",
       "         [-1.2377,  2.1571, -3.2627,  ..., -0.6570, -1.3512,  0.9811],\n",
       "         [-1.2614,  2.1075, -3.2106,  ..., -0.6618, -1.3404,  1.0121]],\n",
       "\n",
       "        [[ 1.1897,  0.3306,  0.0575,  ...,  0.0642, -0.4631, -0.4099],\n",
       "         [ 1.1228,  0.5651,  0.2963,  ...,  0.1159, -0.7412, -0.6304],\n",
       "         [ 1.0831,  0.7186,  0.5747,  ...,  0.0950, -0.9237, -0.6883],\n",
       "         ...,\n",
       "         [-1.2018,  2.2055, -3.3188,  ..., -0.6528, -1.3688,  0.9509],\n",
       "         [-1.2377,  2.1571, -3.2627,  ..., -0.6570, -1.3512,  0.9811],\n",
       "         [-1.2614,  2.1075, -3.2106,  ..., -0.6618, -1.3404,  1.0121]],\n",
       "\n",
       "        [[ 1.1897,  0.3306,  0.0575,  ...,  0.0642, -0.4631, -0.4099],\n",
       "         [ 1.1228,  0.5651,  0.2963,  ...,  0.1159, -0.7412, -0.6304],\n",
       "         [ 1.0831,  0.7186,  0.5747,  ...,  0.0950, -0.9237, -0.6883],\n",
       "         ...,\n",
       "         [-1.2018,  2.2055, -3.3188,  ..., -0.6528, -1.3688,  0.9509],\n",
       "         [-1.2377,  2.1571, -3.2627,  ..., -0.6570, -1.3512,  0.9811],\n",
       "         [-1.2614,  2.1075, -3.2106,  ..., -0.6618, -1.3404,  1.0121]],\n",
       "\n",
       "        ...,\n",
       "\n",
       "        [[ 1.1897,  0.3306,  0.0575,  ...,  0.0642, -0.4631, -0.4099],\n",
       "         [ 1.1228,  0.5651,  0.2963,  ...,  0.1159, -0.7412, -0.6304],\n",
       "         [ 1.0831,  0.7186,  0.5747,  ...,  0.0950, -0.9237, -0.6883],\n",
       "         ...,\n",
       "         [-1.2018,  2.2055, -3.3188,  ..., -0.6528, -1.3688,  0.9509],\n",
       "         [-1.2377,  2.1571, -3.2627,  ..., -0.6570, -1.3512,  0.9811],\n",
       "         [-1.2614,  2.1075, -3.2106,  ..., -0.6618, -1.3404,  1.0121]],\n",
       "\n",
       "        [[ 1.1897,  0.3306,  0.0575,  ...,  0.0642, -0.4631, -0.4099],\n",
       "         [ 1.1228,  0.5651,  0.2963,  ...,  0.1159, -0.7412, -0.6304],\n",
       "         [ 1.0831,  0.7186,  0.5747,  ...,  0.0950, -0.9237, -0.6883],\n",
       "         ...,\n",
       "         [-1.2018,  2.2055, -3.3188,  ..., -0.6528, -1.3688,  0.9509],\n",
       "         [-1.2377,  2.1571, -3.2627,  ..., -0.6570, -1.3512,  0.9811],\n",
       "         [-1.2614,  2.1075, -3.2106,  ..., -0.6618, -1.3404,  1.0121]],\n",
       "\n",
       "        [[ 1.1897,  0.3306,  0.0575,  ...,  0.0642, -0.4631, -0.4099],\n",
       "         [ 1.1228,  0.5651,  0.2963,  ...,  0.1159, -0.7412, -0.6304],\n",
       "         [ 1.0831,  0.7186,  0.5747,  ...,  0.0950, -0.9237, -0.6883],\n",
       "         ...,\n",
       "         [-1.2018,  2.2055, -3.3188,  ..., -0.6528, -1.3688,  0.9509],\n",
       "         [-1.2377,  2.1571, -3.2627,  ..., -0.6570, -1.3512,  0.9811],\n",
       "         [-1.2614,  2.1075, -3.2106,  ..., -0.6618, -1.3404,  1.0121]]],\n",
       "       device='cuda:0', grad_fn=<CopySlices>)"
      ]
     },
     "execution_count": 87,
     "metadata": {},
     "output_type": "execute_result"
    }
   ],
   "source": [
    "output"
   ]
  },
  {
   "cell_type": "code",
   "execution_count": 78,
   "metadata": {},
   "outputs": [
    {
     "data": {
      "text/plain": [
       "tensor([[[ 1.1409,  1.5615,  2.2136,  ...,  0.5683,  0.9974, -0.1488],\n",
       "         [ 1.1402,  1.5620,  2.2112,  ...,  0.5679,  0.9971, -0.1492],\n",
       "         [ 1.1402,  1.5622,  2.2108,  ...,  0.5678,  0.9970, -0.1490],\n",
       "         [ 1.1385,  1.5629,  2.2069,  ...,  0.5672,  0.9965, -0.1502]],\n",
       "\n",
       "        [[-0.0505, -0.4089,  0.2339,  ...,  1.0837,  1.9020,  0.6773],\n",
       "         [-0.0632, -0.3992,  0.2274,  ...,  1.0954,  1.9064,  0.7202],\n",
       "         [-0.0471, -0.4133,  0.2376,  ...,  1.0796,  1.8995,  0.6761],\n",
       "         [-0.0431, -0.3886,  0.2337,  ...,  1.0882,  1.8912,  0.7027]],\n",
       "\n",
       "        [[-0.0505, -0.4089,  0.2339,  ...,  1.0837,  1.9020,  0.6773],\n",
       "         [-0.0632, -0.3992,  0.2274,  ...,  1.0954,  1.9064,  0.7202],\n",
       "         [-0.0471, -0.4133,  0.2376,  ...,  1.0796,  1.8995,  0.6761],\n",
       "         [-0.0431, -0.3886,  0.2337,  ...,  1.0882,  1.8912,  0.7027]],\n",
       "\n",
       "        [[-0.0505, -0.4089,  0.2339,  ...,  1.0837,  1.9020,  0.6773],\n",
       "         [-0.0632, -0.3992,  0.2274,  ...,  1.0954,  1.9064,  0.7202],\n",
       "         [-0.0471, -0.4133,  0.2376,  ...,  1.0796,  1.8995,  0.6761],\n",
       "         [-0.0431, -0.3886,  0.2337,  ...,  1.0882,  1.8912,  0.7027]],\n",
       "\n",
       "        [[-0.0505, -0.4089,  0.2339,  ...,  1.0837,  1.9020,  0.6773],\n",
       "         [-0.0632, -0.3992,  0.2274,  ...,  1.0954,  1.9064,  0.7202],\n",
       "         [-0.0471, -0.4133,  0.2376,  ...,  1.0796,  1.8995,  0.6761],\n",
       "         [-0.0431, -0.3886,  0.2337,  ...,  1.0882,  1.8912,  0.7027]]],\n",
       "       device='cuda:0', grad_fn=<ThAddBackward>)"
      ]
     },
     "execution_count": 78,
     "metadata": {},
     "output_type": "execute_result"
    }
   ],
   "source": [
    "next_memory"
   ]
  },
  {
   "cell_type": "code",
   "execution_count": null,
   "metadata": {},
   "outputs": [],
   "source": []
  }
 ],
 "metadata": {
  "kernelspec": {
   "display_name": "Python 3",
   "language": "python",
   "name": "python3"
  },
  "language_info": {
   "codemirror_mode": {
    "name": "ipython",
    "version": 3
   },
   "file_extension": ".py",
   "mimetype": "text/x-python",
   "name": "python",
   "nbconvert_exporter": "python",
   "pygments_lexer": "ipython3",
   "version": "3.6.5"
  }
 },
 "nbformat": 4,
 "nbformat_minor": 2
}
